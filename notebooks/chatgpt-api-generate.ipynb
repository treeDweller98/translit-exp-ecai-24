{
 "cells": [
  {
   "cell_type": "code",
   "execution_count": null,
   "metadata": {},
   "outputs": [],
   "source": [
    "!pip install openai -q\n"
   ]
  },
  {
   "cell_type": "code",
   "execution_count": null,
   "metadata": {},
   "outputs": [],
   "source": [
    "import pandas as pd\n",
    "import numpy as np\n",
    "import re\n",
    "\n",
    "from sklearn.model_selection import train_test_split\n",
    "from sklearn.metrics import classification_report\n",
    "from sklearn.metrics import confusion_matrix, ConfusionMatrixDisplay\n",
    "\n",
    "pd.set_option('max_colwidth', 200)\n",
    "INPUT_PATH  = 'datasets/'\n",
    "OUTPUT_PATH = 'outputs/'\n",
    "SEED = 42\n",
    "\n",
    "from openai import OpenAI\n",
    "client=OpenAI(\n",
    "    api_key =\"INSERT API KEY HERE\"\n",
    ")"
   ]
  },
  {
   "cell_type": "code",
   "execution_count": null,
   "metadata": {},
   "outputs": [],
   "source": [
    "# Insert appropriate dataset reading code from dataset_readers.py\n",
    "\n",
    "def read_dataset():\n",
    "    pass\n",
    "\n",
    "prompt = '''INSERT PROMPT HERE'''"
   ]
  },
  {
   "cell_type": "code",
   "execution_count": null,
   "metadata": {},
   "outputs": [],
   "source": [
    "train_df, test_df, label_names, dataset_name, text_col = read_dataset()\n",
    "\n",
    "display(train_df.head())\n",
    "display(test_df.head())\n",
    "display(label_names)"
   ]
  },
  {
   "cell_type": "code",
   "execution_count": null,
   "metadata": {},
   "outputs": [],
   "source": [
    "def predict_with_chatgpt(sentences: pd.Series, prompt: str) -> list[str]:\n",
    "    \n",
    "    def chat_with_chatgpt(prompt, model=\"gpt-3.5-turbo\"):\n",
    "        chat_completion=client.chat.completions.create(\n",
    "            messages=[{\n",
    "                \"role\":\"user\",\n",
    "                \"content\":prompt,\n",
    "            }],\n",
    "            model=\"gpt-3.5-turbo\"\n",
    "        )\n",
    "        message = chat_completion.choices[0].message.content\n",
    "        return message\n",
    "    \n",
    "    # Get chatbot response via API\n",
    "    responses = []\n",
    "    for index, sentence in enumerate(sentences):\n",
    "        gpt_prompt = prompt.format(sentence.strip().lower())\n",
    "        chatbot_response = chat_with_chatgpt(gpt_prompt)\n",
    "        responses.append(chatbot_response.strip())\n",
    "        \n",
    "        if index % 100 == 0:\n",
    "            print(index)\n",
    "    \n",
    "    return responses\n",
    "\n",
    "\n",
    "def parse_gpt_output(raw_responses: list[str], start_tag='<tr>', end_tag='</tr>'):\n",
    "\n",
    "    parsed_responses = []\n",
    "    for item in raw_responses:\n",
    "        if start_tag not in item:\n",
    "            output = ''\n",
    "        else:\n",
    "            parts  = item.split(start_tag)\n",
    "            output = parts[1].split(end_tag)[0].strip()\n",
    "        \n",
    "        parsed_responses.append( output.lower() )\n",
    "    \n",
    "    return pd.Series(parsed_responses)"
   ]
  },
  {
   "cell_type": "code",
   "execution_count": null,
   "metadata": {},
   "outputs": [],
   "source": [
    "# Translate train set\n",
    "train_responses = predict_with_chatgpt(train_df.sentence, prompt)\n",
    "train_responses_parsed = parse_gpt_output(train_responses)\n",
    "\n",
    "train_df['translated'] = train_responses_parsed\n",
    "\n",
    "train_df.to_csv(f'{OUTPUT_PATH}/{dataset_name}_train_df.csv', index=False)\n",
    "\n",
    "with open(f'{dataset_name}_train_raw_responses.txt', 'w') as f:\n",
    "    for line in train_responses:\n",
    "        f.write(f\"{line}\\n\")"
   ]
  },
  {
   "cell_type": "code",
   "execution_count": null,
   "metadata": {},
   "outputs": [],
   "source": [
    "# Translate test set\n",
    "\n",
    "test_responses = predict_with_chatgpt(test_df.sentence, prompt)\n",
    "test_responses_parsed = parse_gpt_output(test_responses)\n",
    "\n",
    "test_df['translated'] = test_responses_parsed\n",
    "\n",
    "test_df.to_csv(f'{OUTPUT_PATH}/{dataset_name}_test_df.csv', index=False)\n",
    "\n",
    "with open(f'{dataset_name}_test_raw_responses.txt', 'w') as f:\n",
    "    for line in test_responses:\n",
    "        f.write(f\"{line}\\n\")"
   ]
  }
 ],
 "metadata": {
  "language_info": {
   "name": "python"
  }
 },
 "nbformat": 4,
 "nbformat_minor": 2
}
